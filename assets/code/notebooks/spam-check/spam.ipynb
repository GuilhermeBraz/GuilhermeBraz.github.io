{
 "cells": [
  {
   "cell_type": "markdown",
   "metadata": {},
   "source": [
    "Etapa 1: Importação das bibliotecas necessárias\n",
    "\n",
    "Primeiro, vamos importar todas as bibliotecas necessárias. Precisamos do Pandas para carregar e manipular os dados, do Scikit-Learn para construir o modelo e avaliá-lo, e do Numpy para cálculos numéricos."
   ]
  },
  {
   "cell_type": "code",
   "execution_count": null,
   "metadata": {},
   "outputs": [],
   "source": [
    "import numpy as np\n",
    "import pandas as pd\n",
    "from sklearn.model_selection import train_test_split\n",
    "from sklearn.feature_extraction.text import CountVectorizer\n",
    "from sklearn import svm\n",
    "from sklearn.metrics import confusion_matrix, classification_report"
   ]
  },
  {
   "cell_type": "markdown",
   "metadata": {},
   "source": [
    "Etapa 2: Carregando e visualizando os dados\n",
    "\n",
    "Vamos carregar os dados do arquivo spam.csv que você baixou do Kaggle. Este arquivo contém duas colunas: EmailText e Label. A coluna EmailText contém o texto do e-mail e a coluna Label contém um rótulo indicando se o e-mail é spam (spam) ou não (ham)."
   ]
  },
  {
   "cell_type": "code",
   "execution_count": null,
   "metadata": {},
   "outputs": [],
   "source": [
    "data = pd.read_csv('spam_ham_dataset.csv')\n",
    "print(data.head())"
   ]
  },
  {
   "cell_type": "markdown",
   "metadata": {},
   "source": [
    "Etapa 3: Dividindo os dados\n",
    "\n",
    "Agora, precisamos dividir nossos dados em conjuntos de treinamento e teste. O conjunto de treinamento é usado para treinar o algoritmo de aprendizado de máquina, enquanto o conjunto de teste é usado para avaliar a precisão do modelo."
   ]
  },
  {
   "cell_type": "code",
   "execution_count": null,
   "metadata": {},
   "outputs": [],
   "source": [
    "X = data['EmailText']\n",
    "y = data['Label']\n",
    "\n",
    "X_train, X_test, y_train, y_test = train_test_split(X, y, test_size=0.2)\n"
   ]
  },
  {
   "cell_type": "markdown",
   "metadata": {},
   "source": [
    "Etapa 4: Convertendo texto em números\n",
    "\n",
    "Os algoritmos de aprendizado de máquina trabalham com números, não com texto. Portanto, precisamos converter nosso texto em números. Para isso, usaremos a técnica chamada Bag of Words. Essa técnica transforma cada palavra distinta do texto em uma característica e conta o número de vezes que cada palavra aparece. Por exemplo, a frase \"o céu é azul\" seria transformada em algo como {'o': 1, 'céu': 1, 'é': 1, 'azul': 1}."
   ]
  },
  {
   "cell_type": "code",
   "execution_count": null,
   "metadata": {},
   "outputs": [],
   "source": [
    "cv = CountVectorizer()\n",
    "features = cv.fit_transform(X_train)\n"
   ]
  },
  {
   "cell_type": "markdown",
   "metadata": {},
   "source": [
    "Etapa 5: Construindo o modelo\n",
    "\n",
    "Agora, podemos usar esses recursos para treinar nosso modelo. Usaremos o classificador SVM (Support Vector Machine) para isso. O SVM é um tipo de algoritmo de aprendizado de máquina que tenta encontrar uma linha (em duas dimensões) ou um hiperplano (em mais de duas dimensões) que melhor divide os dados entre as duas classes. No nosso caso, o SVM tentará encontrar o hiperplano que melhor divide os e-mails entre spam e não-spam."
   ]
  },
  {
   "cell_type": "code",
   "execution_count": null,
   "metadata": {},
   "outputs": [],
   "source": [
    "model = svm.SVC()\n",
    "model.fit(features, y_train)\n"
   ]
  },
  {
   "cell_type": "markdown",
   "metadata": {},
   "source": [
    "Etapa 6: Avaliando o modelo\n",
    "\n",
    "Finalmente, precisamos avaliar nosso modelo. Para isso, vamos transformar nosso conjunto de teste em números (como fizemos com o conjunto de treinamento) e fazer o modelo prever se cada e-mail é spam ou não. Em seguida, podemos comparar essas previsões com os rótulos reais.\n",
    "\n",
    "A matriz de confusão é uma tabela que nos permite visualizar o desempenho do nosso algoritmo. Cada linha representa as instâncias da classe real e cada coluna representa as instâncias da classe prevista. Isso nos permitirá ver quantos e-mails foram classificados corretamente e incorretamente.\n",
    "\n",
    "O relatório de classificação nos dará mais informações sobre o desempenho do nosso modelo, como precisão, recall e pontuação F1."
   ]
  },
  {
   "cell_type": "code",
   "execution_count": null,
   "metadata": {},
   "outputs": [],
   "source": [
    "features_test = cv.transform(X_test)\n",
    "predictions = model.predict(features_test)\n",
    "\n",
    "print(confusion_matrix(y_test, predictions))\n",
    "print(classification_report(y_test, predictions))\n"
   ]
  }
 ],
 "metadata": {
  "language_info": {
   "name": "python"
  },
  "orig_nbformat": 4
 },
 "nbformat": 4,
 "nbformat_minor": 2
}
